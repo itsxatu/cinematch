{
 "cells": [
  {
   "cell_type": "code",
   "execution_count": 1,
   "id": "9b0c2581",
   "metadata": {},
   "outputs": [],
   "source": [
    "class CineMatch:\n",
    "    def __init__(self):\n",
    "        # Initializes an empty list to store movie details\n",
    "        self.movies = []\n",
    "\n",
    "    def add_movie(self, title, genre, rating):\n",
    "        # Create a dictionary to store movie details\n",
    "        movie = {\n",
    "            'title': title,\n",
    "            'genre': genre,\n",
    "            'rating': rating\n",
    "        }\n",
    "        # Append the movie dictionary to the movies list\n",
    "        self.movies.append(movie)\n",
    "\n",
    "    def delete_movie(self, title):\n",
    "        # Use a list comprehension to create a new list excluding the movie with the given title\n",
    "        self.movies = [movie for movie in self.movies if movie['title'] != title]\n",
    "\n",
    "    def search_movies(self, search_term, search_type='title'):\n",
    "        result = []\n",
    "        # Check if searching by title\n",
    "        if search_type == 'title':\n",
    "            for movie in self.movies:\n",
    "                # If the search term is in the movie's title (case-insensitive), add to result\n",
    "                if search_term.lower() in movie['title'].lower():\n",
    "                    result.append(movie)\n",
    "         # Check if searching by genre\n",
    "        elif search_type == 'genre':\n",
    "            for movie in self.movies:\n",
    "                # If the search term is in the movie's genre (case-insensitive), add to result\n",
    "                if search_term.lower() in movie['genre'].lower():\n",
    "                    result.append(movie)\n",
    "        return result\n",
    "\n",
    "    def quicksort_movies(self, movies, low, high):\n",
    "        if low < high:\n",
    "            # Partition the array and get the pivot index\n",
    "            pi = self.partition(movies, low, high)\n",
    "             # Recursively sort elements before and after partition\n",
    "            self.quicksort_movies(movies, low, pi - 1)\n",
    "            self.quicksort_movies(movies, pi + 1, high)\n",
    "\n",
    "    def partition(self, movies, low, high):\n",
    "        # Use the last element as pivot\n",
    "        pivot = movies[high]['rating']\n",
    "        i = low - 1\n",
    "        for j in range(low, high):\n",
    "            # If current element's rating is greater than or equal to the pivot, swap\n",
    "            if movies[j]['rating'] >= pivot:\n",
    "                i = i + 1\n",
    "                movies[i], movies[j] = movies[j], movies[i]\n",
    "        # Swap the pivot element with the element at i+1\n",
    "        movies[i + 1], movies[high] = movies[high], movies[i + 1]\n",
    "        return i + 1\n",
    "\n",
    "    def recommend_movies(self, n):\n",
    "        # Create a copy of the movies list to sort\n",
    "        movies_copy = self.movies[:]\n",
    "        # Sort the copied list using QuickSort\n",
    "        self.quicksort_movies(movies_copy, 0, len(movies_copy) - 1)\n",
    "        # Return the top N movies from the sorted list\n",
    "        return movies_copy[:n]\n",
    "\n",
    "    def display_movies(self, movies):\n",
    "        for movie in movies:\n",
    "            print(f\"Title: {movie['title']}, Genre: {movie['genre']}, Rating: {movie['rating']}\")"
   ]
  },
  {
   "cell_type": "code",
   "execution_count": 2,
   "id": "a5d005bc",
   "metadata": {},
   "outputs": [],
   "source": [
    "cine_match = CineMatch()"
   ]
  },
  {
   "cell_type": "code",
   "execution_count": 3,
   "id": "6cc17f5e",
   "metadata": {},
   "outputs": [],
   "source": [
    "cine_match.add_movie(\"Inception\", \"Sci-Fi\", 8.8)\n",
    "cine_match.add_movie(\"The Dark Knight\", \"Action\", 9.0)\n",
    "cine_match.add_movie(\"Interstellar\", \"Sci-Fi\", 8.6)\n",
    "cine_match.add_movie(\"The Matrix\", \"Sci-Fi\", 8.7)\n",
    "cine_match.add_movie(\"Avengers: Endgame\", \"Action\", 8.4)\n",
    "cine_match.add_movie(\"The Godfather\", \"Crime\", 9.2)"
   ]
  },
  {
   "cell_type": "code",
   "execution_count": 4,
   "id": "b21fbc02",
   "metadata": {},
   "outputs": [
    {
     "name": "stdout",
     "output_type": "stream",
     "text": [
      "Search by title 'Inception':\n",
      "Title: Inception, Genre: Sci-Fi, Rating: 8.8\n"
     ]
    }
   ],
   "source": [
    "print(\"Search by title 'Inception':\")\n",
    "movies = cine_match.search_movies(\"Inception\", search_type='title')\n",
    "cine_match.display_movies(movies)"
   ]
  },
  {
   "cell_type": "code",
   "execution_count": 5,
   "id": "cbcbf400",
   "metadata": {},
   "outputs": [
    {
     "name": "stdout",
     "output_type": "stream",
     "text": [
      "\n",
      "Search by genre 'Sci-Fi':\n",
      "Title: Inception, Genre: Sci-Fi, Rating: 8.8\n",
      "Title: Interstellar, Genre: Sci-Fi, Rating: 8.6\n",
      "Title: The Matrix, Genre: Sci-Fi, Rating: 8.7\n"
     ]
    }
   ],
   "source": [
    "print(\"\\nSearch by genre 'Sci-Fi':\")\n",
    "movies = cine_match.search_movies(\"Sci-Fi\", search_type='genre')\n",
    "cine_match.display_movies(movies)"
   ]
  },
  {
   "cell_type": "code",
   "execution_count": 6,
   "id": "bdf61386",
   "metadata": {},
   "outputs": [
    {
     "name": "stdout",
     "output_type": "stream",
     "text": [
      "\n",
      "Top 3 recommended movies:\n",
      "Title: The Godfather, Genre: Crime, Rating: 9.2\n",
      "Title: The Dark Knight, Genre: Action, Rating: 9.0\n",
      "Title: Inception, Genre: Sci-Fi, Rating: 8.8\n"
     ]
    }
   ],
   "source": [
    "print(\"\\nTop 3 recommended movies:\")\n",
    "recommended_movies = cine_match.recommend_movies(3)\n",
    "cine_match.display_movies(recommended_movies)"
   ]
  },
  {
   "cell_type": "code",
   "execution_count": 7,
   "id": "7ffeb632",
   "metadata": {},
   "outputs": [
    {
     "name": "stdout",
     "output_type": "stream",
     "text": [
      "\n",
      "Deleting movie 'Inception'\n"
     ]
    }
   ],
   "source": [
    "print(\"\\nDeleting movie 'Inception'\")\n",
    "cine_match.delete_movie(\"Inception\")"
   ]
  },
  {
   "cell_type": "code",
   "execution_count": 8,
   "id": "d635f6f1",
   "metadata": {},
   "outputs": [
    {
     "name": "stdout",
     "output_type": "stream",
     "text": [
      "\n",
      "All movies after deletion:\n",
      "Title: The Dark Knight, Genre: Action, Rating: 9.0\n",
      "Title: Interstellar, Genre: Sci-Fi, Rating: 8.6\n",
      "Title: The Matrix, Genre: Sci-Fi, Rating: 8.7\n",
      "Title: Avengers: Endgame, Genre: Action, Rating: 8.4\n",
      "Title: The Godfather, Genre: Crime, Rating: 9.2\n"
     ]
    }
   ],
   "source": [
    "print(\"\\nAll movies after deletion:\")\n",
    "cine_match.display_movies(cine_match.movies)"
   ]
  },
  {
   "cell_type": "code",
   "execution_count": null,
   "id": "563d26e3",
   "metadata": {},
   "outputs": [],
   "source": []
  }
 ],
 "metadata": {
  "kernelspec": {
   "display_name": "Python 3",
   "language": "python",
   "name": "python3"
  },
  "language_info": {
   "codemirror_mode": {
    "name": "ipython",
    "version": 3
   },
   "file_extension": ".py",
   "mimetype": "text/x-python",
   "name": "python",
   "nbconvert_exporter": "python",
   "pygments_lexer": "ipython3",
   "version": "3.8.8"
  }
 },
 "nbformat": 4,
 "nbformat_minor": 5
}
